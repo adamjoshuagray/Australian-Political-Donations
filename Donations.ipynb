{
 "cells": [
  {
   "cell_type": "markdown",
   "metadata": {},
   "source": [
    "Australian Political Party Donations\n",
    "===\n",
    "\n",
    "__Overview__\n",
    "\n",
    "Some individuals and companies donate a lot of money to Australian political parties. This sheet summarises these donations.\n",
    "\n",
    "__Source of Data__\n",
    "\n",
    "All the data in this Notebook comes from the Australian Electoral Commission website. You can do your own research by looking [here](http://periodicdisclosures.aec.gov.au/).\n"
   ]
  },
  {
   "cell_type": "code",
   "execution_count": 85,
   "metadata": {
    "collapsed": false
   },
   "outputs": [],
   "source": [
    "import pandas as pd\n",
    "import numpy as np\n",
    "from matplotlib import pyplot as plt\n",
    "import math\n",
    "from IPython.display import display, HTML\n",
    "import urllib\n",
    "import itertools as itt\n",
    "from ipywidgets import *\n",
    "import json\n",
    "pd.options.display.float_format = '${:,.0f}'.format\n",
    "pd.set_option('max_colwidth', 1000, 'max_rows', 100)\n",
    "%matplotlib inline"
   ]
  },
  {
   "cell_type": "markdown",
   "metadata": {},
   "source": [
    "__Load configurations__"
   ]
  },
  {
   "cell_type": "code",
   "execution_count": 86,
   "metadata": {
    "collapsed": false
   },
   "outputs": [],
   "source": [
    "with open('year_info.json', 'r') as f:\n",
    "    yearly_info = json.load(f)\n",
    "with open('parties.json', 'r') as f:\n",
    "    parties = json.load(f)"
   ]
  },
  {
   "cell_type": "markdown",
   "metadata": {},
   "source": [
    "__Before evaluating the rest of this notebook, select the year that you would like to analyse__"
   ]
  },
  {
   "cell_type": "code",
   "execution_count": 87,
   "metadata": {
    "collapsed": false
   },
   "outputs": [],
   "source": [
    "class y:\n",
    "    def __init__(self, year):\n",
    "        self.year = year\n",
    "    def set_year(self, year):\n",
    "        self.year = year\n",
    "yr = y('2014-2015')\n",
    "\n",
    "w_risk_style = widgets.Dropdown(\n",
    "    description = 'Year',\n",
    "    options=list(sorted(yearly_info.keys(), reverse=True))\n",
    ")\n",
    "w_risk_style.observe(lambda b: yr.set_year(w_risk_style.value))\n",
    "display(w_risk_style)"
   ]
  },
  {
   "cell_type": "code",
   "execution_count": 88,
   "metadata": {
    "collapsed": false
   },
   "outputs": [
    {
     "name": "stdout",
     "output_type": "stream",
     "text": [
      "Selected year: 2014-2015\n"
     ]
    }
   ],
   "source": [
    "print('Selected year: %s' % yr.year)"
   ]
  },
  {
   "cell_type": "markdown",
   "metadata": {},
   "source": [
    "__Data Loading__\n",
    "\n",
    "Load data from the csvs downloaded off the AEC website."
   ]
  },
  {
   "cell_type": "code",
   "execution_count": 89,
   "metadata": {
    "collapsed": false
   },
   "outputs": [],
   "source": [
    "donations = {}\n",
    "for party in yearly_info[str(yr.year)]['major_parties']:\n",
    "    party_display = [p for p in parties if p['file'] == party][0]['display']\n",
    "    p_dons = pd.read_csv('data/{:s}-{:s}.csv'.format(party, yr.year))\n",
    "    donations[party_display] = p_dons\n",
    "colors = dict([(p['display'], p['color']) for p in parties])"
   ]
  },
  {
   "cell_type": "markdown",
   "metadata": {},
   "source": [
    "__Donation Totals__"
   ]
  },
  {
   "cell_type": "code",
   "execution_count": 90,
   "metadata": {
    "collapsed": false,
    "scrolled": true
   },
   "outputs": [
    {
     "name": "stdout",
     "output_type": "stream",
     "text": [
      "Total value of donations over the reportable ($12,800) threshold in 2014-2015:\n",
      "\n"
     ]
    },
    {
     "data": {
      "text/html": [
       "<div>\n",
       "<table border=\"1\" class=\"dataframe\">\n",
       "  <thead>\n",
       "    <tr style=\"text-align: right;\">\n",
       "      <th></th>\n",
       "      <th>Total Donated</th>\n",
       "    </tr>\n",
       "  </thead>\n",
       "  <tbody>\n",
       "    <tr>\n",
       "      <th>Greens</th>\n",
       "      <td>$220,116</td>\n",
       "    </tr>\n",
       "    <tr>\n",
       "      <th>Labor</th>\n",
       "      <td>$4,174,712</td>\n",
       "    </tr>\n",
       "    <tr>\n",
       "      <th>National</th>\n",
       "      <td>$680,413</td>\n",
       "    </tr>\n",
       "    <tr>\n",
       "      <th>Liberal</th>\n",
       "      <td>$7,893,118</td>\n",
       "    </tr>\n",
       "    <tr>\n",
       "      <th>Palmer United</th>\n",
       "      <td>$9,820,615</td>\n",
       "    </tr>\n",
       "  </tbody>\n",
       "</table>\n",
       "</div>"
      ],
      "text/plain": [
       "               Total Donated\n",
       "Greens              $220,116\n",
       "Labor             $4,174,712\n",
       "National            $680,413\n",
       "Liberal           $7,893,118\n",
       "Palmer United     $9,820,615"
      ]
     },
     "metadata": {},
     "output_type": "display_data"
    },
    {
     "data": {
      "image/png": "[encoded data removed]",
      "text/plain": [
       "<matplotlib.figure.Figure at 0x7f464a3eb898>"
      ]
     },
     "metadata": {},
     "output_type": "display_data"
    }
   ],
   "source": [
    "print('Total value of donations over the reportable (${:,d}) threshold in {:s}:'.format(\n",
    "        yearly_info[yr.year]['reportable_threshold'], \n",
    "        yr.year))\n",
    "print('')\n",
    "totals = list(map(lambda v: v['AmountPaid'].sum(), donations.values()))\n",
    "display(pd.DataFrame(totals, donations.keys(), columns=['Total Donated']))    \n",
    "ax = plt.pie(totals, \n",
    "             labels=list(donations.keys()), \n",
    "             colors=[colors[p] for p in donations.keys()],\n",
    "             autopct='%.0f%%')"
   ]
  },
  {
   "cell_type": "markdown",
   "metadata": {},
   "source": [
    "__Distribution of Donation Sizes__\n",
    "\n",
    "This helps us get an idea about the size of donations to each party. "
   ]
  },
  {
   "cell_type": "code",
   "execution_count": 91,
   "metadata": {
    "collapsed": false
   },
   "outputs": [
    {
     "name": "stdout",
     "output_type": "stream",
     "text": [
      "There were 10 reportable donations to the Greens party. The average donation size was $22K.\n",
      "There were 103 reportable donations to the Labor party. The average donation size was $41K.\n",
      "There were 30 reportable donations to the National party. The average donation size was $23K.\n",
      "There were 161 reportable donations to the Liberal party. The average donation size was $49K.\n",
      "There were 5 reportable donations to the Palmer United party. The average donation size was $1,964K.\n",
      "The largest donation was to the Palmer United party for $5,991K.\n"
     ]
    },
    {
     "data": {
      "image/png": "[encoded data removed]",
      "text/plain": [
       "<matplotlib.figure.Figure at 0x7f4647f35f28>"
      ]
     },
     "metadata": {},
     "output_type": "display_data"
    }
   ],
   "source": [
    "num_majors = len(yearly_info[str(yr.year)]['major_parties'])\n",
    "f, axarr = plt.subplots(int(num_majors / 2) + num_majors % 2, 2)\n",
    "i = 0\n",
    "max_don = 0\n",
    "max_pty = ''\n",
    "for party, dons in donations.items():\n",
    "    ax = axarr[int(i / 2), i % 2]\n",
    "    grouped_dons = dons.groupby('DonorClientNm').sum()['AmountPaid'] / 1000\n",
    "    ax = (grouped_dons).hist(bins=30, ax = ax, color=colors[party])\n",
    "    mx = max(grouped_dons)\n",
    "    if mx > max_don:\n",
    "        max_don = mx\n",
    "        max_pty = party        \n",
    "    ax.set_xlabel('Donation Size ($1000s)')\n",
    "    ax.set_ylabel('Count')\n",
    "    ax.set_title('Donation Size Distribution: %s' % party)\n",
    "    avg = sum(grouped_dons) / len(grouped_dons)\n",
    "    num = len(grouped_dons)\n",
    "    print('There were {:d} reportable donations to the {:s} party. '.format(num, party) +\n",
    "          'The average donation size was ${:,.0f}K.'.format(avg))   \n",
    "    i += 1\n",
    "fig = plt.gcf().set_size_inches(12, 20)\n",
    "print('The largest donation was to the {:s} party for ${:,.0f}K.'.format(max_pty, max_don))"
   ]
  },
  {
   "cell_type": "markdown",
   "metadata": {},
   "source": [
    "__Cumulative Distributions of Donations__\n",
    "\n",
    "This also helps us understand the size of donations that each party recieved. We additionally add some lines to these charts to help show what 50% of the donations represents, and how many donors make up 50% of the total value of donations.\n",
    "\n",
    "It's also worth noting that the more *curved* this chart is, the more *unequal* the size of the donations are. If everyone donated the same amount we would expect the green line to be half way along the chart and for the blue line to be a straight line. What this shows is that for some political parties a reasonably small percentage of donors account for 50% of the total value of donations. Further down this sheet, we'll dig into who these donors are."
   ]
  },
  {
   "cell_type": "code",
   "execution_count": 92,
   "metadata": {
    "collapsed": false
   },
   "outputs": [
    {
     "data": {
      "image/png": "[encoded data removed]",
      "text/plain": [
       "<matplotlib.figure.Figure at 0x7f46480640b8>"
      ]
     },
     "metadata": {},
     "output_type": "display_data"
    }
   ],
   "source": [
    "num_majors = len(yearly_info[str(yr.year)]['major_parties'])\n",
    "f, axarr = plt.subplots(int(num_majors / 2) + num_majors % 2, 2)\n",
    "i = 0\n",
    "for party, dons in donations.items():\n",
    "    ax = axarr[int(i / 2), i % 2]\n",
    "    sums = dons.groupby('DonorClientNm').sum()['AmountPaid']\n",
    "    sums = sums.sort_values(ascending=False) / 1000\n",
    "    sums.index = range(1, len(sums) + 1)\n",
    "    cumsums = sums.cumsum()\n",
    "    total = sums.sum()\n",
    "    half = total / 2\n",
    "    first_half = cumsums[cumsums < half]\n",
    "    half_idx = 0\n",
    "    if len(first_half.index) > 0:\n",
    "        half_idx = first_half.index[-1]\n",
    "    ax.axhline(half, color='r')\n",
    "    ax.axvline(half_idx + 1, color='g')\n",
    "    cumsums.plot(ax=ax)\n",
    "    ax.set_title('Donation Size Cumulative Distributions: %s' % party)\n",
    "    ax.set_xlabel('Donors')\n",
    "    ax.set_ylabel('Value ($1000)')\n",
    "    ax.set_ylim(0, ax.get_ylim()[1])\n",
    "    i += 1\n",
    "fig = plt.gcf().set_size_inches(12, 20) "
   ]
  },
  {
   "cell_type": "markdown",
   "metadata": {},
   "source": [
    "__Big Donors__\n",
    "\n",
    "We'd like to have a look at who are the biggest donors to each of the parties. For this we'll look the largest donors who cumulatively account for 50% of the total value of donations to each party."
   ]
  },
  {
   "cell_type": "code",
   "execution_count": 98,
   "metadata": {
    "collapsed": false
   },
   "outputs": [],
   "source": [
    "def gurl(n):\n",
    "    data = {'q' : n}\n",
    "    url = 'https://www.google.com/search?%s' % urllib.parse.urlencode(data)\n",
    "    return url\n",
    "    \n",
    "for party, dons in donations.items():\n",
    "    sums = dons.groupby('DonorClientNm').sum()\n",
    "    sums = pd.DataFrame(sums.sort_values(by='AmountPaid', ascending=False)['AmountPaid'])\n",
    "    sums['cumsum'] = sums.cumsum()\n",
    "    sums = sums.reset_index()\n",
    "    total = sums['AmountPaid'].sum()\n",
    "    sums = sums[(sums['cumsum'] < total / 2) | (sums.index == 0)]\n",
    "    del sums['cumsum']\n",
    "    sums = sums.set_index('DonorClientNm')\n",
    "    sums = sums.reset_index()\n",
    "    sums['Google Search'] = sums.apply(lambda r: '<a href=\\\"%s\\\">Search</a>' % gurl(r['DonorClientNm']), axis=1)\n",
    "    sums = sums.set_index('DonorClientNm')\n",
    "    display(HTML('<h2> %s </h2>' % party))\n",
    "    display(HTML(sums.to_html(escape=False)))\n",
    "    ?sums.to_html(escape=False)"
   ]
  },
  {
   "cell_type": "markdown",
   "metadata": {
    "collapsed": true
   },
   "source": [
    "__Multiple Donations__\n",
    "\n",
    "Some donors donate to multiple political parties. Here's a lists of these donors."
   ]
  },
  {
   "cell_type": "code",
   "execution_count": 77,
   "metadata": {
    "collapsed": false
   },
   "outputs": [],
   "source": [
    "donors = {}\n",
    "for party, dons in donations.items():\n",
    "    donors[party] = set(dons['DonorClientNm'])\n",
    "multi_donors = set()\n",
    "for comb in itt.product(donors.keys(),donors.keys()):\n",
    "    if comb[0] != comb[1]:\n",
    "        multi_donors = multi_donors.union(donors[comb[0]].intersection(donors[comb[1]]))    "
   ]
  },
  {
   "cell_type": "code",
   "execution_count": 78,
   "metadata": {
    "collapsed": false,
    "scrolled": false
   },
   "outputs": [],
   "source": [
    "table = []\n",
    "for donor in multi_donors:\n",
    "    row = {'Donor' : donor}\n",
    "    for party, dons in donations.items():\n",
    "        row[party] = dons[dons['DonorClientNm'] == donor]['AmountPaid'].sum()\n",
    "    table.append(row)\n",
    "multi_donor_df = pd.DataFrame(table)\n",
    "multi_donor_df['Google Search'] = multi_donor_df.apply(\n",
    "    lambda r: '<a href=\\\"%s\\\">Search</a>' % gurl(r['Donor']), axis=1)\n",
    "\n",
    "\n",
    "display(HTML(multi_donor_df.to_html(escape=False)))"
   ]
  },
  {
   "cell_type": "markdown",
   "metadata": {},
   "source": [
    "__Largest Recipients__\n",
    "\n",
    "In instances where a donor donated to multiple political parties, which parties got the most money? We look at this in two ways; the sum of all donations to a party from a multi-donor, and the number of instances where a party was the largest recipient. These two measures while similar, are slightly different and the latter is less suseptible to influence from a small number of large donors.\n"
   ]
  },
  {
   "cell_type": "code",
   "execution_count": 79,
   "metadata": {
    "collapsed": false
   },
   "outputs": [],
   "source": [
    "def largest_recipient(row):\n",
    "    mx = max([k for k in row if type(k) is float])\n",
    "    largest = ''\n",
    "    largest_key = [key for key, value in row.items() if value == mx][0]\n",
    "    return largest_key\n",
    "\n",
    "multi_donor_df['Largest'] = multi_donor_df.apply(largest_recipient, axis=1)\n",
    "largest_recipients = {}\n",
    "for party in donations.keys():\n",
    "    largest_recipients[party] = len(multi_donor_df[multi_donor_df['Largest'] == party])\n",
    "largest_recipients = pd.DataFrame(list(largest_recipients.values()), \n",
    "                                  list(largest_recipients.keys()), \n",
    "                                  columns=['Instances where the party was the largest recipient'])\n",
    "multi_party_sums = pd.DataFrame(multi_donor_df[list(donations.keys())].sum(), \n",
    "                                columns=['Total donated from donors to multiple parties'])    "
   ]
  },
  {
   "cell_type": "code",
   "execution_count": 80,
   "metadata": {
    "collapsed": false
   },
   "outputs": [
    {
     "data": {
      "text/html": [
       "<div>\n",
       "<table border=\"1\" class=\"dataframe\">\n",
       "  <thead>\n",
       "    <tr style=\"text-align: right;\">\n",
       "      <th></th>\n",
       "      <th>Total donated from donors to multiple parties</th>\n",
       "    </tr>\n",
       "  </thead>\n",
       "  <tbody>\n",
       "    <tr>\n",
       "      <th>Greens</th>\n",
       "      <td>$0</td>\n",
       "    </tr>\n",
       "    <tr>\n",
       "      <th>Labor</th>\n",
       "      <td>$3,941,375</td>\n",
       "    </tr>\n",
       "    <tr>\n",
       "      <th>National</th>\n",
       "      <td>$364,317</td>\n",
       "    </tr>\n",
       "    <tr>\n",
       "      <th>Liberal</th>\n",
       "      <td>$3,108,918</td>\n",
       "    </tr>\n",
       "  </tbody>\n",
       "</table>\n",
       "</div>"
      ],
      "text/plain": [
       "          Total donated from donors to multiple parties\n",
       "Greens                                               $0\n",
       "Labor                                        $3,941,375\n",
       "National                                       $364,317\n",
       "Liberal                                      $3,108,918"
      ]
     },
     "metadata": {},
     "output_type": "display_data"
    },
    {
     "data": {
      "image/png": "[encoded data removed]",
      "text/plain": [
       "<matplotlib.figure.Figure at 0x7f4647a5af98>"
      ]
     },
     "metadata": {},
     "output_type": "display_data"
    }
   ],
   "source": [
    "display(multi_party_sums)\n",
    "ax = plt.pie(multi_party_sums.values, \n",
    "        labels=multi_party_sums.index.values,\n",
    "        colors=[colors[p] for p in multi_party_sums.index.values],\n",
    "        autopct='%.f%%')"
   ]
  },
  {
   "cell_type": "code",
   "execution_count": 81,
   "metadata": {
    "collapsed": false
   },
   "outputs": [
    {
     "data": {
      "text/html": [
       "<div>\n",
       "<table border=\"1\" class=\"dataframe\">\n",
       "  <thead>\n",
       "    <tr style=\"text-align: right;\">\n",
       "      <th></th>\n",
       "      <th>Instances where the party was the largest recipient</th>\n",
       "    </tr>\n",
       "  </thead>\n",
       "  <tbody>\n",
       "    <tr>\n",
       "      <th>Greens</th>\n",
       "      <td>0</td>\n",
       "    </tr>\n",
       "    <tr>\n",
       "      <th>Labor</th>\n",
       "      <td>73</td>\n",
       "    </tr>\n",
       "    <tr>\n",
       "      <th>National</th>\n",
       "      <td>0</td>\n",
       "    </tr>\n",
       "    <tr>\n",
       "      <th>Liberal</th>\n",
       "      <td>24</td>\n",
       "    </tr>\n",
       "  </tbody>\n",
       "</table>\n",
       "</div>"
      ],
      "text/plain": [
       "          Instances where the party was the largest recipient\n",
       "Greens                                                      0\n",
       "Labor                                                      73\n",
       "National                                                    0\n",
       "Liberal                                                    24"
      ]
     },
     "metadata": {},
     "output_type": "display_data"
    },
    {
     "data": {
      "image/png": "[encoded data removed]",
      "text/plain": [
       "<matplotlib.figure.Figure at 0x7f46479513c8>"
      ]
     },
     "metadata": {},
     "output_type": "display_data"
    }
   ],
   "source": [
    "display(largest_recipients)\n",
    "ax = plt.pie(largest_recipients.values,\n",
    "             labels=largest_recipients.index.values,\n",
    "             colors=[colors[p] for p in largest_recipients.index.values],\n",
    "             autopct='%.f%%')"
   ]
  }
 ],
 "metadata": {
  "kernelspec": {
   "display_name": "Python 3",
   "language": "python",
   "name": "python3"
  },
  "language_info": {
   "codemirror_mode": {
    "name": "ipython",
    "version": 3
   },
   "file_extension": ".py",
   "mimetype": "text/x-python",
   "name": "python",
   "nbconvert_exporter": "python",
   "pygments_lexer": "ipython3",
   "version": "3.5.1+"
  },
  "widgets": {
   "state": {
    "03eab61beaf6409f9918208accc1465f": {
     "views": [
      {
       "cell_index": 16
      }
     ]
    },
    "075702bb70b2451987a2eefb1ad22ea1": {
     "views": []
    },
    "085ad85eee2e4728be6dce7334f9c8bd": {
     "views": []
    },
    "08f9ae13efc946d6931ae0420e5b36f9": {
     "views": []
    },
    "0a4114adee9f4a248b035060010df406": {
     "views": []
    },
    "0c2852d38f564aa8a89f386cf5a41d8c": {
     "views": []
    },
    "0cdcc4ad2738479ba2c57b7fd61fead5": {
     "views": []
    },
    "0d1e1a82212f4948b2c38ee4610fb69c": {
     "views": []
    },
    "0d4c13337f2f46bb90547253292cbb0b": {
     "views": []
    },
    "0e0d99504dbf4d1798003076cd0317ed": {
     "views": []
    },
    "0e760909dd514a2cad5492e9cd81fbe9": {
     "views": []
    },
    "0ea29e01c429444c9314684d04564362": {
     "views": []
    },
    "0f15baf040864b5fa87712f554b27331": {
     "views": []
    },
    "120b54bc6fb94462a9ba720da9edc2a1": {
     "views": []
    },
    "1533bd24d0a74074a796d1debc0caa73": {
     "views": []
    },
    "1790c082f34d49b19f0695e8216c0a81": {
     "views": []
    },
    "1a2566581c584efa8584c749e4d4480e": {
     "views": []
    },
    "1b18dbc5fb6349eda4a4c2dcebe1185f": {
     "views": []
    },
    "1b71c0a8860e4928910fb818ec2d6e19": {
     "views": []
    },
    "1d8fb198a3d3480fb998348ecd422885": {
     "views": []
    },
    "1dbc939db6b94d92b4b12a6340d6e3e6": {
     "views": []
    },
    "1e2d5e8fd368460e8539ec10db1e11af": {
     "views": []
    },
    "2044bca5cdf64b1eacc76a35d118528e": {
     "views": []
    },
    "209867c07c3f41eabcebe14609d6715f": {
     "views": []
    },
    "210715164ac14b3d8c9a7d3b05133754": {
     "views": []
    },
    "211fe7d3695c4da79d31de7dfa7455ac": {
     "views": []
    },
    "217408638cb3444d893c17e801d9e416": {
     "views": []
    },
    "21fe9069200049c0ab3da9b1b423857f": {
     "views": []
    },
    "230b042ecdee41e7aceae1e4e5df0956": {
     "views": []
    },
    "24259251772d462993d0446188594601": {
     "views": [
      {
       "cell_index": 5
      }
     ]
    },
    "244a22f948ae4a3f913f0b87c84465f9": {
     "views": []
    },
    "25819b380be444e4a96806b39be5e9d7": {
     "views": []
    },
    "2655d024aebf431587891194f7ddeb46": {
     "views": []
    },
    "26caddcbee194249bf07e447c1fce8ba": {
     "views": []
    },
    "27b7f91c9f834bf9821831797b497688": {
     "views": []
    },
    "27de0fcfa1da47df860e6d8a55c2d333": {
     "views": []
    },
    "2898240f3f67492489ec694d0090acf2": {
     "views": []
    },
    "2b62f310ee7b4cafacc84d6660a6c656": {
     "views": [
      {
       "cell_index": 16
      }
     ]
    },
    "2b64dacd8a8343a2acd084505e318171": {
     "views": [
      {
       "cell_index": 16
      }
     ]
    },
    "2c4d82f04e114f0aa00e028dbab4499d": {
     "views": []
    },
    "2d15977f55034d14a63e2e17dc786dc3": {
     "views": []
    },
    "2f9828acf5c246beb6b9a20a1fd63b03": {
     "views": []
    },
    "31e2f3e551154334a03819217f5dc401": {
     "views": []
    },
    "3342469f866a4563b91257d8dbefbad6": {
     "views": [
      {
       "cell_index": 16
      }
     ]
    },
    "355c6bc266d44545a8c9b132dd80c69e": {
     "views": []
    },
    "36d0512c0bbc4a60a822cc6a1b257b8f": {
     "views": []
    },
    "37dd326a101a455ba178df71378f25d5": {
     "views": []
    },
    "3931e73925854d2db67afe15c612b56d": {
     "views": [
      {
       "cell_index": 16
      }
     ]
    },
    "3b809ab1a12c4876adeeba4ea33f7a3a": {
     "views": [
      {
       "cell_index": 16
      }
     ]
    },
    "3c541d81de334517a3b53d3e8ccc8f34": {
     "views": []
    },
    "3cc010e84f6044fca059cdb6cc3786f2": {
     "views": []
    },
    "3e359796979840138302d646c2380106": {
     "views": []
    },
    "3ecb7ecd91e747b4a2976fb777c7645a": {
     "views": []
    },
    "40d69d257a0c446bb5789fdad9cab0bf": {
     "views": []
    },
    "410bab026e014f8db92f155ab8ea13fd": {
     "views": []
    },
    "413bce2d0fec41d6af823a9569a90505": {
     "views": []
    },
    "415efeed6915447bb97940604167c598": {
     "views": []
    },
    "41601fd5377d4aa7a29d420084be38d5": {
     "views": []
    },
    "4161333ddcd1444da1be0ea1c334bdb7": {
     "views": []
    },
    "42241b618a544b6abba99f39baf14b3d": {
     "views": [
      {
       "cell_index": 16
      }
     ]
    },
    "44b843e06d77421aae0cc8d4340390ed": {
     "views": []
    },
    "44e66f62b42b4145bb9760017713d5a4": {
     "views": []
    },
    "45a5cc140b0944d2a6d79a32303bea07": {
     "views": [
      {
       "cell_index": 16
      }
     ]
    },
    "46d2bfd7464a484b8ae5c82c1062ab76": {
     "views": []
    },
    "49a8efe296364873a74b92b9d8352b2b": {
     "views": []
    },
    "4a258111ecf7447bb4af9e97bd75475e": {
     "views": []
    },
    "4a4d27585fd9416dae67782f991a5e32": {
     "views": []
    },
    "4ac9ce1eb994413fa45f0b38d16af149": {
     "views": []
    },
    "4b1a333e6f0e42408c8dc912156a0f0d": {
     "views": []
    },
    "4b4236dd84db4e9594d65b00de6bdb27": {
     "views": []
    },
    "4b69d1cfe37044738469304459e47332": {
     "views": []
    },
    "4c303248e77546b6be1f15228bc156ed": {
     "views": []
    },
    "4cb8256c23e04faeb33bdd46517983ca": {
     "views": [
      {
       "cell_index": 16
      }
     ]
    },
    "4cd118d57af746c9bbd4fe08049c2f7a": {
     "views": []
    },
    "4d54496a105248e68aafbe435f6f4e9c": {
     "views": []
    },
    "4eaecf2b91fb4805a510cc2f7bbf60d3": {
     "views": []
    },
    "4f57c1b3e5e4422096de5d1ab3d6fe50": {
     "views": []
    },
    "4fd3e7da22484d6786727189efc84402": {
     "views": [
      {
       "cell_index": 16
      }
     ]
    },
    "50dc67ee18824402afbaa8c2d93a83f7": {
     "views": [
      {
       "cell_index": 16
      }
     ]
    },
    "5241435c2c344ae4a4273c8073a90a9c": {
     "views": []
    },
    "525fd43394224424bed9273308002f6c": {
     "views": []
    },
    "5332a14e0e5048078f82a52facb174fd": {
     "views": []
    },
    "53c570e7b196416da59b5eaffd9a4e84": {
     "views": []
    },
    "54bfe5111c8a4d38bbc90ec88a3978fc": {
     "views": [
      {
       "cell_index": 16
      }
     ]
    },
    "54c0e9f2ac4445208452a558fe733de1": {
     "views": []
    },
    "569291b0a75046c0b43ff56d87a07239": {
     "views": [
      {
       "cell_index": 16
      }
     ]
    },
    "57514771534440129eda28981ce7a407": {
     "views": [
      {
       "cell_index": 16
      }
     ]
    },
    "57dc62d7e51a4e39ae9904d10edb4706": {
     "views": []
    },
    "581969b5e8924259a43d9aa094f866d3": {
     "views": [
      {
       "cell_index": 16
      }
     ]
    },
    "592dc73d7bd84f2a8c80cec116d3114e": {
     "views": [
      {
       "cell_index": 16
      }
     ]
    },
    "5a059d19ac234a4e90ac3dee429f8efd": {
     "views": [
      {
       "cell_index": 16
      }
     ]
    },
    "5b404eb779824697aeb3d9459a304f69": {
     "views": []
    },
    "5d82d6f0aa754c5e99c2e0ef0b59f649": {
     "views": []
    },
    "5ee0f07655fd42009896de2c6486343f": {
     "views": []
    },
    "606fab50e7ea46d788aafd011d4e45ec": {
     "views": []
    },
    "609645d12f6f48a4b21537db9130e7b9": {
     "views": [
      {
       "cell_index": 19
      }
     ]
    },
    "645d5a8342384b5fbd07cfacab2972d6": {
     "views": []
    },
    "64fcaf6715214582ab53f8b0c41bfc13": {
     "views": []
    },
    "6558ff723caf4d418da2a2630051220c": {
     "views": []
    },
    "673197af338946df848a1168ae8bf719": {
     "views": []
    },
    "686ca78cc55541069727f51866d9749e": {
     "views": []
    },
    "690d2aa5cb6d409eb153639b3d6b7cbb": {
     "views": []
    },
    "6914b190f0f8465ca461753676a69535": {
     "views": []
    },
    "6a491fef21744876a5d911670a3882fd": {
     "views": []
    },
    "6b16cbe727ac4293b1daa8ac12a36cd9": {
     "views": []
    },
    "6b5af8e42a68419d8c7c3c3eb6ae6017": {
     "views": []
    },
    "6d0c972f4a274778892db2277c7ff82b": {
     "views": []
    },
    "6da58f6a77444bc18b829c486df9af90": {
     "views": []
    },
    "6ed046ac057548ce86f4800b57db65ec": {
     "views": []
    },
    "7065ed138ca74674b6dc930c99bf93e5": {
     "views": []
    },
    "70c948bcb5094d8d99ced054ddd6d552": {
     "views": []
    },
    "73a12db4fe7b42d9b86cb4cb23f31b0d": {
     "views": []
    },
    "768e3f59368245beb827889d3318f327": {
     "views": [
      {
       "cell_index": 16
      }
     ]
    },
    "77b13adf40d84e598b4b21d8d9124434": {
     "views": []
    },
    "77c9af2e3316497381c634382a93ee23": {
     "views": []
    },
    "79c640bec45245dcae5d0eb7f1bfa492": {
     "views": []
    },
    "79d577f707334594bd3d6d860af9ad47": {
     "views": []
    },
    "7e10f0370bb2497b8dc7451b1b700814": {
     "views": []
    },
    "7f90dc6a477d410e9bf131859c875e03": {
     "views": []
    },
    "8163e6687273421898f11756ce5f40b2": {
     "views": []
    },
    "822836bcb46540f49e6de973ea0fc8c8": {
     "views": []
    },
    "822eecf52947407db04c3e96296384c2": {
     "views": []
    },
    "8523eaae156a4a86ab98e1565dd2791e": {
     "views": []
    },
    "85ac83f8b06941fda746e6615573e04a": {
     "views": []
    },
    "86d68717edf14b468688073fb8266a42": {
     "views": []
    },
    "870e00109ba4419eaa0c5ff5a9b75194": {
     "views": [
      {
       "cell_index": 16
      }
     ]
    },
    "88c6b13cffce48349b0bde34481368ac": {
     "views": []
    },
    "8a536ccf17d44cf2b404c27e97eeaac0": {
     "views": []
    },
    "8b290c7c01dc4bc886cb8e5262a010e7": {
     "views": []
    },
    "8c8776496e004f1391d618a410f618ad": {
     "views": [
      {
       "cell_index": 16
      }
     ]
    },
    "8d6a9052ede045ca959bcc816bbc3763": {
     "views": []
    },
    "8e2c5859f0094bd6b5aa7cc61bc6e1fc": {
     "views": []
    },
    "8e9c6490e3d94272a87097313974e014": {
     "views": []
    },
    "8f3d6c4c228f436291b6d2148bc015d7": {
     "views": []
    },
    "8f8590afd8434f008bd06cb94ddad500": {
     "views": [
      {
       "cell_index": 16
      }
     ]
    },
    "914715b9b089436794b1ea08410bf36f": {
     "views": []
    },
    "94a1bae0323d4bc087bd5b52221f5bcc": {
     "views": []
    },
    "95bb9eb19bbc4cd5ac87866b17124214": {
     "views": []
    },
    "97e8866fc6e348e4b9e52966259cdba4": {
     "views": []
    },
    "98fdc8bcc4064e60aff2fe9923751bed": {
     "views": []
    },
    "9c87948b0efb41d79e0172e61e51fb70": {
     "views": []
    },
    "9ce59e865a774ad49482de687a58f46a": {
     "views": []
    },
    "9d000c45335745f4b4b6e9818b4ce9c8": {
     "views": []
    },
    "9ef93b7e15f449efad80c143781f1f81": {
     "views": []
    },
    "9ffcfa798720488bb34ed3b0ccb00134": {
     "views": []
    },
    "a0076b11faf447959f119143b91649bb": {
     "views": []
    },
    "a04582b035d74a8496562b711d552966": {
     "views": []
    },
    "a182958c34fa4079b49fd63fdc82169a": {
     "views": []
    },
    "a190a9d76d5e493fbb77783017c874a5": {
     "views": [
      {
       "cell_index": 16
      }
     ]
    },
    "a1dec896bdcb468b90edc2249c1303a4": {
     "views": [
      {
       "cell_index": 16
      }
     ]
    },
    "a28cc236f57e4944b7dd8a26631cef01": {
     "views": []
    },
    "a32e398736304ab8a2aea41c370b4b8a": {
     "views": [
      {
       "cell_index": 16
      }
     ]
    },
    "a819d8adae30424f8c0f00bd0f7c20ff": {
     "views": [
      {
       "cell_index": 16
      }
     ]
    },
    "a91adfa589c148c8b71bb99a720625e1": {
     "views": []
    },
    "aa4d451adc304ce3be228c5b8f6eef67": {
     "views": [
      {
       "cell_index": 16
      }
     ]
    },
    "aba1758edf4845ef90d6e637d9478e88": {
     "views": []
    },
    "ac16d57ed9b846179fcefd1bce75a98a": {
     "views": []
    },
    "af60f356ccfa407ea77a054c291bb171": {
     "views": []
    },
    "b02ddcdcb35e4f09ab399b5a9cd47c07": {
     "views": []
    },
    "b1539762255f472ea310c6527932e337": {
     "views": [
      {
       "cell_index": 16
      }
     ]
    },
    "b2e895e0286f43daac1c83f6d6a551b8": {
     "views": []
    },
    "b360f06d442743a08c20830290a36ef5": {
     "views": [
      {
       "cell_index": 16
      }
     ]
    },
    "b3bbd9ff3aa444f6b7dfcd7c3c3da6c9": {
     "views": []
    },
    "b441917f722640c0810b1d6a9f530c3d": {
     "views": []
    },
    "b6013a7753da468d8236bcc5d7160fa7": {
     "views": [
      {
       "cell_index": 16
      }
     ]
    },
    "b6719cb9aa9d45c0880756f937129b5f": {
     "views": []
    },
    "b6cf8f48010e46a9b47b8dd4cddebfc4": {
     "views": []
    },
    "b88b67a737834d1fa15b94de01fce2b3": {
     "views": []
    },
    "b9a4eac70cd24c8bb45cb3e4afc938eb": {
     "views": []
    },
    "ba28d714bc024db79d3f10c3c04ea1b5": {
     "views": []
    },
    "ba88725901684af68bc25ae3a1f8a12c": {
     "views": [
      {
       "cell_index": 16
      }
     ]
    },
    "bacf9dc105cd4fb4a31a1687e291454c": {
     "views": []
    },
    "bb403527eff8406c885481eba488ee9c": {
     "views": []
    },
    "bd5210db272049a4ad9c960d4f9d28ea": {
     "views": []
    },
    "becdb97562874312bf90381a407185bf": {
     "views": [
      {
       "cell_index": 16
      }
     ]
    },
    "c016b809844d48e6aa20098226fb8417": {
     "views": []
    },
    "c0762ae32a874842bdc87324b4a58fc7": {
     "views": []
    },
    "c13b8cef21284cc2a0a085e87a23e326": {
     "views": []
    },
    "c1681478c78f4627a5c90a124793d93f": {
     "views": []
    },
    "c202c01429674f6dadae3517262796c8": {
     "views": []
    },
    "c2652ee795bf418fb39d422bf9e64c9f": {
     "views": [
      {
       "cell_index": 16
      }
     ]
    },
    "c277b8e9f8654a0998cb053e8fdc38e3": {
     "views": [
      {
       "cell_index": 16
      }
     ]
    },
    "c3491c7d17fd4b58a0dae98d5cefb2ba": {
     "views": []
    },
    "c467904d3bef47be8ecc597f1e86c704": {
     "views": []
    },
    "c58435de406b4fc9807faece1edd724f": {
     "views": []
    },
    "c6f8eab11e3341a5bff1631df5da49de": {
     "views": []
    },
    "c72b1f8a87864eeeb6977bd274213d56": {
     "views": []
    },
    "c75b964d20e24b0abcea4fc5724ef2f5": {
     "views": []
    },
    "c78d283e33054b79bfbbeedc3e83e7cb": {
     "views": [
      {
       "cell_index": 16
      }
     ]
    },
    "c7d52399bba84805be309b040b4f628d": {
     "views": []
    },
    "c7f699ba88f5420ba08da41ac2651a6c": {
     "views": []
    },
    "c7f775cf088144b592f29ec0263a34ba": {
     "views": [
      {
       "cell_index": 16
      }
     ]
    },
    "c9728bd1fe2c4c61bd394bdb54bbb067": {
     "views": []
    },
    "ca01bd3af5144270af5349cca952addb": {
     "views": []
    },
    "ca38b693ba024c328f5b5d7e0a7ee03f": {
     "views": []
    },
    "cb23f8fc9e8b4c2cb9ae7a356d34ba3d": {
     "views": []
    },
    "cb580a03836a421bb67ab1b8957154ae": {
     "views": []
    },
    "cbec14475afd488aa32bd4e2839e6dd4": {
     "views": []
    },
    "cdd07b1be39d44ac857d5506d11df744": {
     "views": []
    },
    "ceb6b186f31843f499e291e57bbcd398": {
     "views": []
    },
    "cebb45c67ec9400b851bd2082fab25e0": {
     "views": []
    },
    "cf04dad574fa4d6084d80ba4564e8751": {
     "views": [
      {
       "cell_index": 16
      }
     ]
    },
    "d08e5f99ed254472868d3c0644453a58": {
     "views": []
    },
    "d151e45ac6ee4bb3a9c7e9c4a55487d0": {
     "views": []
    },
    "d20bf1497fa7429a9e14ddcef4c6fd82": {
     "views": []
    },
    "d2748a5c8bec4544aca5fb39a57da68b": {
     "views": []
    },
    "d2fb791ae8b14d3580ebbeb05327a1f3": {
     "views": []
    },
    "d3ed25562a9948e4b95606969e35a8d9": {
     "views": [
      {
       "cell_index": 16
      }
     ]
    },
    "d3f3f39ee3ab4f43b50b2d0513a6dba3": {
     "views": [
      {
       "cell_index": 16
      }
     ]
    },
    "d49a4a9306d24323970d8c7e35fa1b5e": {
     "views": []
    },
    "d73a9e5c9c8c4badbcebe097efbe24f9": {
     "views": []
    },
    "d7a632bad5d24a6790ac844b632e9cee": {
     "views": [
      {
       "cell_index": 16
      }
     ]
    },
    "d82221e0c51b43839d06dd212d1eaa80": {
     "views": []
    },
    "da3c8554bd8f4329a668c952557cc7f4": {
     "views": []
    },
    "db1b568b8b0b4c72b828c0e67c81a4c9": {
     "views": []
    },
    "dedb3fb204b94ed5a4c86092bb32f79e": {
     "views": [
      {
       "cell_index": 16
      }
     ]
    },
    "df705f0160fa4531a8374319c02fae8b": {
     "views": [
      {
       "cell_index": 16
      }
     ]
    },
    "e01db4ce99bb4a9d9dc40d9623e1f8bf": {
     "views": [
      {
       "cell_index": 16
      }
     ]
    },
    "e045020574ee4562b2fd88bee804e917": {
     "views": []
    },
    "e0b4f17ff8ac4b9191b79b3da7867ce7": {
     "views": [
      {
       "cell_index": 16
      }
     ]
    },
    "e14fad7572a84149b8e9ee02160e252a": {
     "views": []
    },
    "e1646f63f982477a9406b24689f08543": {
     "views": []
    },
    "e345cd8764bb4878973872ae42cf8676": {
     "views": []
    },
    "e447fad3baa744848fe6630b5bc21614": {
     "views": []
    },
    "e4dc70561e0c4d74b1d87413b61e5543": {
     "views": []
    },
    "e527378d09d543348f308e84a0f5b450": {
     "views": []
    },
    "e7734ea5bdd74ecdbebea4437bdb875c": {
     "views": []
    },
    "e7a60e594c1e46f38d39907880e6472f": {
     "views": []
    },
    "e7b7cf38efa5449bb65a3c5cceccda28": {
     "views": []
    },
    "e89a9be47086406aaf40669ec203d21a": {
     "views": []
    },
    "ea46b24f9f644541b59782254ed8ced6": {
     "views": []
    },
    "eab72e01d36f4eca80e7c011883e3b76": {
     "views": []
    },
    "eab8f58e3a4148adb560b06803993231": {
     "views": []
    },
    "eb6c391b94f4400e9c7a20f7d848a3f2": {
     "views": [
      {
       "cell_index": 16
      }
     ]
    },
    "ed0b2d05ae2e49afafc56654623c47d4": {
     "views": []
    },
    "f139fd31db0b491a9ccd9d591335e24b": {
     "views": []
    },
    "f45b8ee5530544178570a2faf6ea5a5a": {
     "views": []
    },
    "f4f754f8c6d3470493437cc866aab702": {
     "views": []
    },
    "f53bdcc0a1c04c3283fc00f7211f4ef9": {
     "views": []
    },
    "f78b85e08d4345bead9fdb2734ae7183": {
     "views": []
    },
    "f86301fb2e804b6b8330547d8639f0e8": {
     "views": []
    },
    "f866305fa823483782908e779e9e2bba": {
     "views": []
    },
    "f8895fd905724a388ef8da5abb7a2001": {
     "views": []
    },
    "fa0b9104279a4a5e8f5ec3a722330254": {
     "views": []
    },
    "fb0a271753234bf090ef5fea7d44f6bd": {
     "views": []
    },
    "fb605a2ef3fc4d55ac3306b78565f595": {
     "views": []
    },
    "fc0e1c23c68f480d83be46cb1ddd0bbd": {
     "views": []
    },
    "fda0e9b2bc5f463c96a4ee6ad9fb2384": {
     "views": []
    },
    "fe1b2d43266a4526955d1892f610dd16": {
     "views": []
    },
    "fff59abb23174c0b91e9da7a19a6bf97": {
     "views": []
    }
   },
   "version": "1.1.1"
  }
 },
 "nbformat": 4,
 "nbformat_minor": 0
}
