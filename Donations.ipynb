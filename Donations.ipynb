{
 "cells": [
  {
   "cell_type": "markdown",
   "metadata": {},
   "source": [
    "Australian Political Party Donations\n",
    "===\n",
    "\n",
    "__Overview__\n",
    "\n",
    "Some individuals and companies donate a lot of money to Australian political parties. This sheet summarises these donations.\n",
    "\n",
    "__Source of Data__\n",
    "\n",
    "All the data in this Notebook comes from the Australian Electoral Commission website. You can do your own research by looking [here](http://periodicdisclosures.aec.gov.au/).\n"
   ]
  },
  {
   "cell_type": "code",
   "execution_count": 227,
   "metadata": {
    "collapsed": false
   },
   "outputs": [],
   "source": [
    "import pandas as pd\n",
    "import numpy as np\n",
    "from matplotlib import pyplot as plt\n",
    "import math\n",
    "from IPython.display import display, HTML\n",
    "import urllib\n",
    "import itertools as itt\n",
    "from ipywidgets import *\n",
    "import json\n",
    "pd.options.display.float_format = '${:,.0f}'.format\n",
    "pd.set_option('max_colwidth', 1000, 'max_rows', 100)\n",
    "%matplotlib inline"
   ]
  },
  {
   "cell_type": "markdown",
   "metadata": {},
   "source": [
    "__Load configurations__"
   ]
  },
  {
   "cell_type": "code",
   "execution_count": 228,
   "metadata": {
    "collapsed": false
   },
   "outputs": [],
   "source": [
    "with open('year_info.json', 'r') as f:\n",
    "    yearly_info = json.load(f)\n",
    "with open('parties.json', 'r') as f:\n",
    "    parties = json.load(f)"
   ]
  },
  {
   "cell_type": "markdown",
   "metadata": {},
   "source": [
    "__Before evaluating the rest of this notebook, select the year that you would like to analyse__"
   ]
  },
  {
   "cell_type": "code",
   "execution_count": 229,
   "metadata": {
    "collapsed": false
   },
   "outputs": [],
   "source": [
    "class y:\n",
    "    def __init__(self, year):\n",
    "        self.year = year\n",
    "    def set_year(self, year):\n",
    "        self.year = year\n",
    "yr = y('2014-2015')\n",
    "\n",
    "w_risk_style = widgets.Dropdown(\n",
    "    description = 'Year',\n",
    "    options=list(sorted(yearly_info.keys(), reverse=True))\n",
    ")\n",
    "w_risk_style.observe(lambda b: yr.set_year(w_risk_style.value))\n",
    "display(w_risk_style)"
   ]
  },
  {
   "cell_type": "markdown",
   "metadata": {},
   "source": [
    "__Data Loading__\n",
    "\n",
    "Load data from the csvs downloaded off the AEC website."
   ]
  },
  {
   "cell_type": "code",
   "execution_count": 230,
   "metadata": {
    "collapsed": false
   },
   "outputs": [],
   "source": [
    "donations = {}\n",
    "for party in yearly_info[str(yr.year)]['major_parties']:\n",
    "    party_display = [p for p in parties if p['file'] == party][0]['display']\n",
    "    p_dons = pd.read_csv('data/{:s}-{:s}.csv'.format(party, yr.year))\n",
    "    donations[party_display] = p_dons\n",
    "colors = dict([(p['display'], p['color']) for p in parties])"
   ]
  },
  {
   "cell_type": "markdown",
   "metadata": {},
   "source": [
    "__Donation Totals__"
   ]
  },
  {
   "cell_type": "code",
   "execution_count": 231,
   "metadata": {
    "collapsed": false,
    "scrolled": true
   },
   "outputs": [
    {
     "name": "stdout",
     "output_type": "stream",
     "text": [
      "Total value of donations over the reportable ($12,800) threadhold in 2014-2015:\n",
      "\n"
     ]
    },
    {
     "data": {
      "text/html": [
       "<div>\n",
       "<table border=\"1\" class=\"dataframe\">\n",
       "  <thead>\n",
       "    <tr style=\"text-align: right;\">\n",
       "      <th></th>\n",
       "      <th>Total Donated</th>\n",
       "    </tr>\n",
       "  </thead>\n",
       "  <tbody>\n",
       "    <tr>\n",
       "      <th>National</th>\n",
       "      <td>$680,413</td>\n",
       "    </tr>\n",
       "    <tr>\n",
       "      <th>Palmer United</th>\n",
       "      <td>$9,820,615</td>\n",
       "    </tr>\n",
       "    <tr>\n",
       "      <th>Greens</th>\n",
       "      <td>$220,116</td>\n",
       "    </tr>\n",
       "    <tr>\n",
       "      <th>Labor</th>\n",
       "      <td>$4,174,712</td>\n",
       "    </tr>\n",
       "    <tr>\n",
       "      <th>Liberal</th>\n",
       "      <td>$7,893,118</td>\n",
       "    </tr>\n",
       "  </tbody>\n",
       "</table>\n",
       "</div>"
      ],
      "text/plain": [
       "               Total Donated\n",
       "National            $680,413\n",
       "Palmer United     $9,820,615\n",
       "Greens              $220,116\n",
       "Labor             $4,174,712\n",
       "Liberal           $7,893,118"
      ]
     },
     "metadata": {},
     "output_type": "display_data"
    },
    {
     "data": {
      "image/png": "[encoded data removed]",
      "text/plain": [
       "<matplotlib.figure.Figure at 0x7f6295470198>"
      ]
     },
     "metadata": {},
     "output_type": "display_data"
    }
   ],
   "source": [
    "print('Total value of donations over the reportable (${:,d}) threadhold in {:s}:'.format(\n",
    "        yearly_info[yr.year]['reportable_threshold'], \n",
    "        yr.year))\n",
    "print('')\n",
    "totals = list(map(lambda v: v['AmountPaid'].sum(), donations.values()))\n",
    "display(pd.DataFrame(totals, donations.keys(), columns=['Total Donated']))    \n",
    "ax = plt.pie(totals, \n",
    "             labels=list(donations.keys()), \n",
    "             colors=[colors[p] for p in donations.keys()],\n",
    "             autopct='%.0f%%')"
   ]
  },
  {
   "cell_type": "markdown",
   "metadata": {},
   "source": [
    "__Distribution of Donation Sizes__\n",
    "\n",
    "This helps us get an idea about the size of donations to each party. "
   ]
  },
  {
   "cell_type": "code",
   "execution_count": 232,
   "metadata": {
    "collapsed": false
   },
   "outputs": [
    {
     "name": "stdout",
     "output_type": "stream",
     "text": [
      "There were 30 reportable donations to the National party. The average donation size was $23K.\n",
      "There were 5 reportable donations to the Palmer United party. The average donation size was $1,964K.\n",
      "There were 10 reportable donations to the Greens party. The average donation size was $22K.\n",
      "There were 103 reportable donations to the Labor party. The average donation size was $41K.\n",
      "There were 161 reportable donations to the Liberal party. The average donation size was $49K.\n",
      "The largest donation was to the Palmer United party for $5,991K.\n"
     ]
    },
    {
     "data": {
      "image/png": "[encoded data removed]",
      "text/plain": [
       "<matplotlib.figure.Figure at 0x7f62950c8a90>"
      ]
     },
     "metadata": {},
     "output_type": "display_data"
    }
   ],
   "source": [
    "num_majors = len(yearly_info[str(yr.year)]['major_parties'])\n",
    "f, axarr = plt.subplots(int(num_majors / 2) + num_majors % 2, 2)\n",
    "i = 0\n",
    "max_don = 0\n",
    "max_pty = ''\n",
    "for party, dons in donations.items():\n",
    "    ax = axarr[int(i / 2), i % 2]\n",
    "    grouped_dons = dons.groupby('DonorClientNm').sum()['AmountPaid'] / 1000\n",
    "    ax = (grouped_dons).hist(bins=30, ax = ax, color=colors[party])\n",
    "    mx = max(grouped_dons)\n",
    "    if mx > max_don:\n",
    "        max_don = mx\n",
    "        max_pty = party        \n",
    "    ax.set_xlabel('Donation Size ($1000s)')\n",
    "    ax.set_ylabel('Count')\n",
    "    ax.set_title('Donation Size Distribution: %s' % party)\n",
    "    avg = sum(grouped_dons) / len(grouped_dons)\n",
    "    num = len(grouped_dons)\n",
    "    print('There were {:d} reportable donations to the {:s} party. '.format(num, party) +\n",
    "          'The average donation size was ${:,.0f}K.'.format(avg))   \n",
    "    i += 1\n",
    "fig = plt.gcf().set_size_inches(12, 20)\n",
    "print('The largest donation was to the {:s} party for ${:,.0f}K.'.format(max_pty, max_don))"
   ]
  },
  {
   "cell_type": "markdown",
   "metadata": {},
   "source": [
    "__Cumulative Distributions of Donations__\n",
    "\n",
    "This also helps us understand the size of donations that each party recieved. We additionally add some lines to these charts to help show what 50% of the donations represents, and how many donors make up 50% of the total value of donations.\n",
    "\n",
    "It's also worth noting that the more *curved* this chart is, the more *unequal* the size of the donations are. If everyone donated the same amount we would expect the green line to be half way along the chart and for the blue line to be a straight line. What this shows is that for some political parties a reasonably small percentage of donors account for 50% of the total value of donations. Further down this sheet, we'll dig into who these donors are."
   ]
  },
  {
   "cell_type": "code",
   "execution_count": 233,
   "metadata": {
    "collapsed": false
   },
   "outputs": [
    {
     "data": {
      "image/png": "[encoded data removed]",
      "text/plain": [
       "<matplotlib.figure.Figure at 0x7f6294bbf6a0>"
      ]
     },
     "metadata": {},
     "output_type": "display_data"
    }
   ],
   "source": [
    "num_majors = len(yearly_info[str(yr.year)]['major_parties'])\n",
    "f, axarr = plt.subplots(int(num_majors / 2) + num_majors % 2, 2)\n",
    "i = 0\n",
    "for party, dons in donations.items():\n",
    "    ax = axarr[int(i / 2), i % 2]\n",
    "    sums = dons.groupby('DonorClientNm').sum()['AmountPaid']\n",
    "    sums = sums.sort_values(ascending=False) / 1000\n",
    "    sums.index = range(1, len(sums) + 1)\n",
    "    cumsums = sums.cumsum()\n",
    "    total = sums.sum()\n",
    "    half = total / 2\n",
    "    first_half = cumsums[cumsums < half]\n",
    "    half_idx = 0\n",
    "    if len(first_half.index) > 0:\n",
    "        half_idx = first_half.index[-1]\n",
    "    ax.axhline(half, color='r')\n",
    "    ax.axvline(half_idx + 1, color='g')\n",
    "    cumsums.plot(ax=ax)\n",
    "    ax.set_title('Donation Size Cumulative Distributions: %s' % party)\n",
    "    ax.set_xlabel('Donors')\n",
    "    ax.set_ylabel('Value ($1000)')\n",
    "    ax.set_ylim(0, ax.get_ylim()[1])\n",
    "    i += 1\n",
    "fig = plt.gcf().set_size_inches(12, 20) "
   ]
  },
  {
   "cell_type": "markdown",
   "metadata": {},
   "source": [
    "__Big Donors__\n",
    "\n",
    "We'd like to have a look at who are the biggest donors to each of the parties. For this we'll look the largest donors who cumulatively account for 50% of the total value of donations to each party."
   ]
  },
  {
   "cell_type": "code",
   "execution_count": 234,
   "metadata": {
    "collapsed": false
   },
   "outputs": [],
   "source": [
    "def gurl(n):\n",
    "    data = {'q' : n}\n",
    "    url = 'https://www.google.com/search?%s' % urllib.parse.urlencode(data)\n",
    "    return url\n",
    "    \n",
    "for party, dons in donations.items():\n",
    "    sums = dons.groupby('DonorClientNm').sum()\n",
    "    sums = pd.DataFrame(sums.sort_values(by='AmountPaid', ascending=False)['AmountPaid'])\n",
    "    sums['cumsum'] = sums.cumsum()\n",
    "    sums = sums.reset_index()\n",
    "    total = sums['AmountPaid'].sum()\n",
    "    sums = sums[(sums['cumsum'] < total / 2) | (sums.index == 0)]\n",
    "    del sums['cumsum']\n",
    "    sums = sums.set_index('DonorClientNm')\n",
    "    sums = sums.reset_index()\n",
    "    sums['Google Search'] = sums.apply(lambda r: '<a href=\\\"%s\\\">Search</a>' % gurl(r['DonorClientNm']), axis=1)\n",
    "    display(HTML('<h2> %s </h2>' % party))\n",
    "    display(HTML(sums.to_html(escape=False)))"
   ]
  },
  {
   "cell_type": "markdown",
   "metadata": {
    "collapsed": true
   },
   "source": [
    "__Multiple Donations__\n",
    "\n",
    "Some donors donate to multiple political parties. Here's a lists of these donors."
   ]
  },
  {
   "cell_type": "code",
   "execution_count": 235,
   "metadata": {
    "collapsed": false
   },
   "outputs": [],
   "source": [
    "donors = {}\n",
    "for party, dons in donations.items():\n",
    "    donors[party] = set(dons['DonorClientNm'])\n",
    "multi_donors = set()\n",
    "for comb in itt.product(donors.keys(),donors.keys()):\n",
    "    if comb[0] != comb[1]:\n",
    "        multi_donors = multi_donors.union(donors[comb[0]].intersection(donors[comb[1]]))    "
   ]
  },
  {
   "cell_type": "code",
   "execution_count": 236,
   "metadata": {
    "collapsed": false,
    "scrolled": false
   },
   "outputs": [],
   "source": [
    "table = []\n",
    "for donor in multi_donors:\n",
    "    row = {'Donor' : donor}\n",
    "    for party, dons in donations.items():\n",
    "        row[party] = dons[dons['DonorClientNm'] == donor]['AmountPaid'].sum()\n",
    "    table.append(row)\n",
    "multi_donor_df = pd.DataFrame(table)\n",
    "multi_donor_df['Google Search'] = multi_donor_df.apply(\n",
    "    lambda r: '<a href=\\\"%s\\\">Search</a>' % gurl(r['Donor']), axis=1)\n",
    "\n",
    "\n",
    "display(HTML(multi_donor_df.to_html(escape=False)))"
   ]
  },
  {
   "cell_type": "markdown",
   "metadata": {},
   "source": [
    "__Largest Recipients__\n",
    "\n",
    "In instances where a donor donated to multiple political parties, which parties got the most money? We look at this in two ways; the sum of all donations to a party from a multi-donor, and the number of instances where a party was the largest recipient. These two measures while similar, are slightly different and the latter is less suseptible to influence from a small number of large donors.\n"
   ]
  },
  {
   "cell_type": "code",
   "execution_count": 237,
   "metadata": {
    "collapsed": false
   },
   "outputs": [],
   "source": [
    "def largest_recipient(row):\n",
    "    mx = max([k for k in row if type(k) is float])\n",
    "    largest = ''\n",
    "    largest_key = [key for key, value in row.items() if value == mx][0]\n",
    "    return largest_key\n",
    "\n",
    "multi_donor_df['Largest'] = multi_donor_df.apply(largest_recipient, axis=1)\n",
    "largest_recipients = {}\n",
    "for party in donations.keys():\n",
    "    largest_recipients[party] = len(multi_donor_df[multi_donor_df['Largest'] == party])\n",
    "largest_recipients = pd.DataFrame(list(largest_recipients.values()), \n",
    "                                  list(largest_recipients.keys()), \n",
    "                                  columns=['Instances where the party was the largest recipient'])\n",
    "multi_party_sums = pd.DataFrame(multi_donor_df[list(donations.keys())].sum(), \n",
    "                                columns=['Total donated from donors to multiple parties'])    "
   ]
  },
  {
   "cell_type": "code",
   "execution_count": 238,
   "metadata": {
    "collapsed": false
   },
   "outputs": [
    {
     "data": {
      "text/html": [
       "<div>\n",
       "<table border=\"1\" class=\"dataframe\">\n",
       "  <thead>\n",
       "    <tr style=\"text-align: right;\">\n",
       "      <th></th>\n",
       "      <th>Total donated from donors to multiple parties</th>\n",
       "    </tr>\n",
       "  </thead>\n",
       "  <tbody>\n",
       "    <tr>\n",
       "      <th>National</th>\n",
       "      <td>$492,285</td>\n",
       "    </tr>\n",
       "    <tr>\n",
       "      <th>Palmer United</th>\n",
       "      <td>$0</td>\n",
       "    </tr>\n",
       "    <tr>\n",
       "      <th>Greens</th>\n",
       "      <td>$0</td>\n",
       "    </tr>\n",
       "    <tr>\n",
       "      <th>Labor</th>\n",
       "      <td>$2,640,040</td>\n",
       "    </tr>\n",
       "    <tr>\n",
       "      <th>Liberal</th>\n",
       "      <td>$3,670,729</td>\n",
       "    </tr>\n",
       "  </tbody>\n",
       "</table>\n",
       "</div>"
      ],
      "text/plain": [
       "               Total donated from donors to multiple parties\n",
       "National                                            $492,285\n",
       "Palmer United                                             $0\n",
       "Greens                                                    $0\n",
       "Labor                                             $2,640,040\n",
       "Liberal                                           $3,670,729"
      ]
     },
     "metadata": {},
     "output_type": "display_data"
    },
    {
     "data": {
      "image/png": "[encoded data removed]",
      "text/plain": [
       "<matplotlib.figure.Figure at 0x7f629766d5c0>"
      ]
     },
     "metadata": {},
     "output_type": "display_data"
    }
   ],
   "source": [
    "display(multi_party_sums)\n",
    "ax = plt.pie(multi_party_sums.values, \n",
    "        labels=multi_party_sums.index.values,\n",
    "        colors=[colors[p] for p in multi_party_sums.index.values],\n",
    "        autopct='%.f%%')"
   ]
  },
  {
   "cell_type": "code",
   "execution_count": 239,
   "metadata": {
    "collapsed": false
   },
   "outputs": [
    {
     "data": {
      "text/html": [
       "<div>\n",
       "<table border=\"1\" class=\"dataframe\">\n",
       "  <thead>\n",
       "    <tr style=\"text-align: right;\">\n",
       "      <th></th>\n",
       "      <th>Instances where the party was the largest recipient</th>\n",
       "    </tr>\n",
       "  </thead>\n",
       "  <tbody>\n",
       "    <tr>\n",
       "      <th>Liberal</th>\n",
       "      <td>45</td>\n",
       "    </tr>\n",
       "    <tr>\n",
       "      <th>Palmer United</th>\n",
       "      <td>0</td>\n",
       "    </tr>\n",
       "    <tr>\n",
       "      <th>Labor</th>\n",
       "      <td>26</td>\n",
       "    </tr>\n",
       "    <tr>\n",
       "      <th>Greens</th>\n",
       "      <td>0</td>\n",
       "    </tr>\n",
       "    <tr>\n",
       "      <th>National</th>\n",
       "      <td>5</td>\n",
       "    </tr>\n",
       "  </tbody>\n",
       "</table>\n",
       "</div>"
      ],
      "text/plain": [
       "               Instances where the party was the largest recipient\n",
       "Liberal                                                         45\n",
       "Palmer United                                                    0\n",
       "Labor                                                           26\n",
       "Greens                                                           0\n",
       "National                                                         5"
      ]
     },
     "metadata": {},
     "output_type": "display_data"
    },
    {
     "data": {
      "image/png": "[encoded data removed]",
      "text/plain": [
       "<matplotlib.figure.Figure at 0x7f628eef4240>"
      ]
     },
     "metadata": {},
     "output_type": "display_data"
    }
   ],
   "source": [
    "display(largest_recipients)\n",
    "ax = plt.pie(largest_recipients.values,\n",
    "             labels=largest_recipients.index.values,\n",
    "             colors=[colors[p] for p in largest_recipients.index.values],\n",
    "             autopct='%.f%%')"
   ]
  }
 ],
 "metadata": {
  "kernelspec": {
   "display_name": "Python 3",
   "language": "python",
   "name": "python3"
  },
  "language_info": {
   "codemirror_mode": {
    "name": "ipython",
    "version": 3
   },
   "file_extension": ".py",
   "mimetype": "text/x-python",
   "name": "python",
   "nbconvert_exporter": "python",
   "pygments_lexer": "ipython3",
   "version": "3.5.1+"
  },
  "widgets": {
   "state": {
    "00081be4c62e49bcbb5c8a15e13d8ba2": {
     "views": []
    },
    "0013cd9f0ec646c8b5fe546d0ac45be6": {
     "views": []
    },
    "017aab7fd28642ce936087534e1c4e53": {
     "views": []
    },
    "04388447c2944b00b1471bd586802c96": {
     "views": []
    },
    "04acf28cdd9842848f4beda25efda8ef": {
     "views": []
    },
    "04e916265a754a9398e41ff504c4e306": {
     "views": []
    },
    "04ffc3533e924f6daaba5be20646efcb": {
     "views": []
    },
    "06de496509334f638f7e1e52a3e30d83": {
     "views": []
    },
    "08ad0aae433d4a35adeaee868d7846ab": {
     "views": []
    },
    "0901cd14ba9b4f6780ae0d0bd05ab9da": {
     "views": []
    },
    "09faa98a5fdb4280be4c5274b8579e7c": {
     "views": []
    },
    "0a1a295408614611859103ff433b5fc5": {
     "views": []
    },
    "0ae90aef84044665b3bdd38a26072138": {
     "views": []
    },
    "0b457f3ea39b4c7e95de62145a9d0715": {
     "views": []
    },
    "0b4a1cf921b348b8975a612ab8a91ef9": {
     "views": []
    },
    "0bcde195a48c48e682522c17a2e0d145": {
     "views": []
    },
    "0bf59bf57fcd4e20a159bc21273d202a": {
     "views": []
    },
    "0c2381a10caa4d59bfb3af760c0a96fc": {
     "views": []
    },
    "0c4434dfd36249198cf920399f8be5d3": {
     "views": []
    },
    "0c850a061b414e0f903440217454e2c1": {
     "views": [
      {
       "cell_index": 15
      }
     ]
    },
    "0ed76b35e5e14e88b798d97db4d84e42": {
     "views": []
    },
    "0ee1f74f82bc488da7a8a3fc8d28c7aa": {
     "views": []
    },
    "0f347434a76b4a38a81b91f457564025": {
     "views": []
    },
    "1028be27959c4cd5b46fff37eddd3837": {
     "views": []
    },
    "1150e77df67d4936b9b620bbb03f1564": {
     "views": []
    },
    "120321c1767e44c9872670fab84461ed": {
     "views": []
    },
    "1399b753d7f44653bef45972e09ecaad": {
     "views": []
    },
    "14c57795db1b4a9e99a22260a1011edf": {
     "views": []
    },
    "14ea5869993a4c7fad08e48ced741084": {
     "views": []
    },
    "166affedc99949739f227a3016b8a17c": {
     "views": [
      {
       "cell_index": 15
      }
     ]
    },
    "16e5bbae99424d5896943e35140c1644": {
     "views": []
    },
    "180884c19bc24fa18536add5a35e2e1c": {
     "views": []
    },
    "18ccc53130094d5abd6323600c32c7de": {
     "views": []
    },
    "19e12d7b1c194bb5a8e4e0817051d275": {
     "views": []
    },
    "1a89481cba8744cfaff379dcd2ec0981": {
     "views": [
      {
       "cell_index": 15
      }
     ]
    },
    "1a896ba776e34b3ea8db20650cb958d5": {
     "views": []
    },
    "1ad9948d9a3f4697bcecabaa08208c50": {
     "views": []
    },
    "1b313d775b0c49f5850255f1693c352f": {
     "views": []
    },
    "1c710d8134ed4f7bba2e88d29b15d0a6": {
     "views": [
      {
       "cell_index": 15
      }
     ]
    },
    "1e601450bba047d8a8a04ab10713415c": {
     "views": [
      {
       "cell_index": 15
      }
     ]
    },
    "2007616e7bc74cc4a3ba26ac4b1c50bc": {
     "views": []
    },
    "214d1ed202474ffc8a8382434abc4892": {
     "views": []
    },
    "2262e37426a34d2cb7aee7e337833e58": {
     "views": []
    },
    "22af3a7037354f5089ded0696dace0c0": {
     "views": []
    },
    "23510698bd384fcca1d19b66bdb7e1f7": {
     "views": []
    },
    "23bc9e97204e4ba6b4fc1a36a74f6613": {
     "views": []
    },
    "2439b41baed146dc8777263717171551": {
     "views": []
    },
    "257937a1108e45e091df55a6c8a09c95": {
     "views": []
    },
    "25a03f9f09184be1af97568e173974d3": {
     "views": [
      {
       "cell_index": 15
      }
     ]
    },
    "261ecfc8ea7a4eb396ce2a7c02105614": {
     "views": []
    },
    "26c5fe8c904f4bd6a15fbd74552c58a5": {
     "views": []
    },
    "271f6c2b80f14103802374902c69dc59": {
     "views": []
    },
    "284cfca1f46947aebd390920e632ddf0": {
     "views": []
    },
    "289e3b947e694af78080f38052a3000c": {
     "views": [
      {
       "cell_index": 15
      }
     ]
    },
    "28dd43bd6b6744b396fced987d07c54c": {
     "views": [
      {
       "cell_index": 15
      }
     ]
    },
    "29840d5e459b4bdd9b5137ac6f88206b": {
     "views": [
      {
       "cell_index": 15
      }
     ]
    },
    "2a065203f5484d2da585a62838705603": {
     "views": []
    },
    "2aa5c4ad3d9e4890a78d58543b79d14b": {
     "views": []
    },
    "2b1cfdb9776c43ab8f652abe40898c80": {
     "views": []
    },
    "2b72df51cfc14eb3b286bf2ee381cd3f": {
     "views": []
    },
    "2c1ffb3e3e844ef7a24390711b8e09d2": {
     "views": []
    },
    "2cac489e9715490fb59d696fc3ba574d": {
     "views": []
    },
    "2cc56d34e38d4e45956551cfe9e28f9a": {
     "views": []
    },
    "2d4bb54c455a4971b698408a344d8c2a": {
     "views": []
    },
    "2e250a493f3a4c77b5966bf55eb63261": {
     "views": []
    },
    "2e52cb292b1245848ae5b5641d96a409": {
     "views": []
    },
    "2fc3dc0f37f04ce0816c40040146a4fb": {
     "views": [
      {
       "cell_index": 15
      }
     ]
    },
    "2fcd90efb32040f8a05c85960e09a2b6": {
     "views": []
    },
    "30b898d9f51a414f8e0212e302e7cd61": {
     "views": []
    },
    "30c6ece64f0c4a44af3a77068050456c": {
     "views": []
    },
    "30f1249d8b0943b3b1d32ee15b6214bc": {
     "views": []
    },
    "32aaddb5cfc54cb89c47dceded93cae5": {
     "views": []
    },
    "32ba4ece1e8a4e359bc3aebc3e2c9b04": {
     "views": []
    },
    "32d172c5b6f54f10b1cdd6ac8cf4d6d3": {
     "views": []
    },
    "33495e3151b6466ba7d13ce55aecc30f": {
     "views": []
    },
    "3362bfdaec5e41daa0a7ce93516b45e2": {
     "views": []
    },
    "341882f5f4e54bdba63c35e462072dfb": {
     "views": []
    },
    "34f52bf9953143abbdc1eccb0e8b4f0b": {
     "views": []
    },
    "384aab5f744d436e87d26b87873bb3e2": {
     "views": [
      {
       "cell_index": 15
      }
     ]
    },
    "39761cae6a3f4fdb966f8ec5a35385bf": {
     "views": []
    },
    "3a386e4d71cf45bdaad96fcd218ef613": {
     "views": []
    },
    "3ab7d7b3f4784d0ebd6d723679139df5": {
     "views": []
    },
    "3bfdb8ba346b4547afd6b4154d4c39e6": {
     "views": []
    },
    "3c44d20b1bfb4caabf577bff18d58f73": {
     "views": []
    },
    "3c5b2ccb9b5847dea2fa98b5db989e63": {
     "views": []
    },
    "3deb33c066944b8390969c68542b3a3b": {
     "views": []
    },
    "3f6ca823f6b648d7a0af0b50e05fb91e": {
     "views": []
    },
    "3fef83b7d7584c4fb25e890b6f308733": {
     "views": [
      {
       "cell_index": 15
      }
     ]
    },
    "408e3334a8d84099b85a20f7313d1e50": {
     "views": []
    },
    "40e7f75d53004429a91eb7322aea07c2": {
     "views": [
      {
       "cell_index": 15
      }
     ]
    },
    "41cebc02d1144d03a4c86dfdbcf0d36b": {
     "views": [
      {
       "cell_index": 15
      }
     ]
    },
    "424f056ffd3346ed8458fdab3eebb07b": {
     "views": []
    },
    "44008d531c6b45c389ea62b05bd4977b": {
     "views": [
      {
       "cell_index": 15
      }
     ]
    },
    "44403522531748ec8eeaada6eaf86bef": {
     "views": []
    },
    "455f0f5f6bdf4c7c8c31f36d2ea19256": {
     "views": []
    },
    "45a077fb25064c6ea1aba625af051976": {
     "views": [
      {
       "cell_index": 15
      }
     ]
    },
    "45f97ea20580458a8e3003f6cd98688c": {
     "views": []
    },
    "45f98082a2f2438394cdec7eb8a50015": {
     "views": []
    },
    "47ec990d4dcd4871ba4e5baa0f2841af": {
     "views": []
    },
    "49382c5fcaba464e80e08c9af8fb7cb2": {
     "views": []
    },
    "4db2ff75cfc24ad6abeb7b25e9eb43f6": {
     "views": []
    },
    "4ec5d53429974018b4d15c4330479d4c": {
     "views": []
    },
    "4ef670fee1ad457bb1e1e2b8f72ecde0": {
     "views": []
    },
    "50436d9cb29b4ef1b43ac4c5614eec22": {
     "views": []
    },
    "50a3783e0d9c421da37cd302111993f3": {
     "views": []
    },
    "54a9b2724f984051af0902b8654a807c": {
     "views": [
      {
       "cell_index": 15
      }
     ]
    },
    "55bf03c124db4b83bc6f2cacbcd671cc": {
     "views": []
    },
    "56f76074a5c442728884545b5f9c059a": {
     "views": [
      {
       "cell_index": 15
      }
     ]
    },
    "571a00d0115244b5abded7bc3dc43ebb": {
     "views": []
    },
    "5819774c26a74bb19161282d436070c5": {
     "views": []
    },
    "58e44efb22944533adb1cd7f38bb8b21": {
     "views": []
    },
    "5934e50498ef409a919ace57cc8f32fd": {
     "views": []
    },
    "5acad1a334a841b1969288b4f47c5df0": {
     "views": []
    },
    "5ad58d0e4b454da88d267bdcf326c4de": {
     "views": []
    },
    "5af2ebb6cc374e99bc7aa71dcdf87bb5": {
     "views": []
    },
    "5d9f7bb5df194469a3fbc3930421bbda": {
     "views": []
    },
    "5fa9df1889124073a9934159a6c0fc92": {
     "views": []
    },
    "5ff460b13fca4034b5338856920183b4": {
     "views": []
    },
    "609fd3a0d8c44a7ab65e0afe58e508b2": {
     "views": []
    },
    "641c0a1cfeb84fc5b621eb8020fe224f": {
     "views": []
    },
    "655b6d33e0254d6caa7139159a8376dd": {
     "views": []
    },
    "657dcaab73f142fc8582fb45cd847646": {
     "views": []
    },
    "66c1bd37370d412f98217d6ab363c100": {
     "views": []
    },
    "66f992d5d86848b48d6122db39ead1fd": {
     "views": [
      {
       "cell_index": 15
      }
     ]
    },
    "672d9ea0445c46bbac2ca60d3594f500": {
     "views": []
    },
    "67874923cef4409aa9d70c45c94340ea": {
     "views": []
    },
    "67877dd78e4e4a4d89ca11ea63d01a6a": {
     "views": []
    },
    "686143b2bbc84c458617bfbd6a0ad8e5": {
     "views": []
    },
    "68805fa3ca8a4c50aaae82914aada574": {
     "views": []
    },
    "689879ddca1146918f350689c3862abe": {
     "views": []
    },
    "6a028e54c28041168ea40ca1caaeb8cc": {
     "views": []
    },
    "6a50681d994240028b6339c615be4f14": {
     "views": []
    },
    "6c33f4175f964668b516b546283692ce": {
     "views": []
    },
    "6df8a77952174271bd1314bc8d4d3795": {
     "views": []
    },
    "6e4bbf6df9e64655920d4f78d8475e26": {
     "views": []
    },
    "6e8c298e5a0e4e39af54c1b69413f505": {
     "views": []
    },
    "706d689802c64c2d8f5e3059b01a798f": {
     "views": []
    },
    "707adab8136148b6b6aa2c9e20da83d0": {
     "views": []
    },
    "71c65321b26d48fcaab7af5fc80cb928": {
     "views": []
    },
    "71f98a69a05740adab3638e419f75f95": {
     "views": []
    },
    "73a9dec6b2ba49a69b499f695eb410ef": {
     "views": [
      {
       "cell_index": 15
      }
     ]
    },
    "758de3b85b8a481d900746d7145859a9": {
     "views": []
    },
    "774553600bc2473e84f22d059f8060af": {
     "views": []
    },
    "7746b02b14c94285b0d9eed66b9558b5": {
     "views": []
    },
    "7762640e0d2047e0b7bd1027a27fd2a9": {
     "views": []
    },
    "776571deb4874fd7a1d3eb0f6d56d100": {
     "views": [
      {
       "cell_index": 15
      }
     ]
    },
    "77d430510adc41d090332caf0dfeec33": {
     "views": []
    },
    "78684c788e1f4badbf6c234eb2d3e412": {
     "views": []
    },
    "788e3fe154384648ac19599560bb1fd7": {
     "views": []
    },
    "789c36f17a374cd4bf00fa950d04fdab": {
     "views": []
    },
    "7a235f24e8bd453b86e32a34c27450d2": {
     "views": []
    },
    "7ac8b044428c45c2aba5bd136848004a": {
     "views": []
    },
    "7b518a069c3242b792775313d036cd20": {
     "views": []
    },
    "7de023e4a5a0442ca08126e01d61b436": {
     "views": []
    },
    "7e144c9b10bb498ca39300d77c68d46c": {
     "views": []
    },
    "7ea49c58b2ff4150b240633b3dde5c10": {
     "views": []
    },
    "7eaa3594cfdf4f088370ab5e4fed681b": {
     "views": []
    },
    "7f5149937a404486906d1dc7eed14dfb": {
     "views": []
    },
    "8034a1987430409797a52fa054cc2c32": {
     "views": []
    },
    "80c7a0572b264bc496b77c9f50502f52": {
     "views": []
    },
    "8158bf5845c84042932a6d57adb3af00": {
     "views": []
    },
    "83ae0a75235843b0a5c8882f368e35d6": {
     "views": []
    },
    "8405c407945b418aaec519551e19435e": {
     "views": []
    },
    "84d163226065468796c3347a931b5dd6": {
     "views": []
    },
    "85ae13d771db4f558eaf43698672e0e1": {
     "views": []
    },
    "87df717777e94022bf417fc7aaffb7e2": {
     "views": []
    },
    "88b5d6ebbae24bc699733d131be7c80c": {
     "views": []
    },
    "8968331d4bfd4402b889d091a50468c9": {
     "views": []
    },
    "89db64f31b8f4216b19747bc716dea9b": {
     "views": []
    },
    "8bf4f68085b04970a9ad841cdd66e14a": {
     "views": [
      {
       "cell_index": 15
      }
     ]
    },
    "8d25759fd60142ae8743c7c3fff9568b": {
     "views": []
    },
    "8f490f9d05bc4a62b39c2f64bbbc6d17": {
     "views": []
    },
    "8fa9f8ecd370405589656208c49b49a7": {
     "views": []
    },
    "8fff6d8de75e4592b08c1dd698cb1292": {
     "views": []
    },
    "907d5f63a96d4d818bd82864930bb495": {
     "views": []
    },
    "90925d1b806c499ca868da1c8016e5ef": {
     "views": []
    },
    "90b51dba539640a09468fecf84517b36": {
     "views": [
      {
       "cell_index": 15
      }
     ]
    },
    "924f254087b849d5b5ab7e7dc6fc9a78": {
     "views": [
      {
       "cell_index": 15
      }
     ]
    },
    "92d187644c854198b4c7eead3defd58f": {
     "views": []
    },
    "92fd69031c144ae2b8104de8e4f0b53f": {
     "views": []
    },
    "938dabda656242cc84485cb1166ea2b9": {
     "views": []
    },
    "97478ef486734d7c80fcdf937b3c1fc3": {
     "views": []
    },
    "978b5b2b4c0844f786e42e505fc26d72": {
     "views": []
    },
    "982b47a4ca2f496b964577301a9309c5": {
     "views": []
    },
    "9973354073c94fef8d0aecc4eadb5f52": {
     "views": []
    },
    "9988e76c15674ecdb2a223529d2e06d3": {
     "views": []
    },
    "998f52163d6b4e7f98f1d95dc7d75275": {
     "views": []
    },
    "9a4f84416b4f456e96e77ef2faea3e2c": {
     "views": []
    },
    "9a5af8597736414585d4350507822cfe": {
     "views": []
    },
    "9ae6a36f214341c6975db2b82f8b9d41": {
     "views": []
    },
    "9b7a4b439ca04e678d722642c4e1f986": {
     "views": []
    },
    "9bdff96ee560413381ca41595d1741fd": {
     "views": []
    },
    "9c269923e1194246bdc15e5e03c9fe96": {
     "views": [
      {
       "cell_index": 15
      }
     ]
    },
    "9c75190a58af4eb4b12ec457f14e2159": {
     "views": []
    },
    "9c818d575fcc4808b67aeb07fda6e110": {
     "views": []
    },
    "9c9239990b0f4eb2991aa4f3d7e88a79": {
     "views": []
    },
    "9e0f71375421480cab7d51ca8b86a677": {
     "views": []
    },
    "9eb13c01e1b54f04b66b28d8d656601b": {
     "views": []
    },
    "9f43124309184cf397a8dc6de0f57304": {
     "views": []
    },
    "a054d970e23748799a07c85103b3eabb": {
     "views": []
    },
    "a150e2017a434722b8398c619412d368": {
     "views": []
    },
    "a2800cf5843543f597ce73b02b4b9998": {
     "views": []
    },
    "a346772cd1ed4376b9b721ad0570f776": {
     "views": []
    },
    "a4b2c1527eb14fe19c232a71af9167f6": {
     "views": [
      {
       "cell_index": 15
      }
     ]
    },
    "a5a8bf6ee0604fb788167e389a27c55e": {
     "views": []
    },
    "a5b06434a9c545c38c1a7c86ffa30c16": {
     "views": []
    },
    "a7210be33e28445683057f5a8f889569": {
     "views": [
      {
       "cell_index": 15
      }
     ]
    },
    "a8d646dd3b1c4335b23fab27f75997a8": {
     "views": []
    },
    "a8f41f0af0854ddf9998200097f4d2cc": {
     "views": [
      {
       "cell_index": 15
      }
     ]
    },
    "a94f03196abd4de0a79eedfa2b1416d2": {
     "views": []
    },
    "aa26bc8552514fb7bd063bf6d5c079ec": {
     "views": []
    },
    "aae67ef3c5da4c8db38ab40a23708a9a": {
     "views": []
    },
    "ab1d07aa0f674b35b9bcd78f07eeba77": {
     "views": []
    },
    "abd4600ccb4843da8691e766d07efd53": {
     "views": []
    },
    "ac2383cae52942aab9b0e0e2c83d7cab": {
     "views": [
      {
       "cell_index": 15
      }
     ]
    },
    "ac658effd1704cee9385f26d86ed12f8": {
     "views": []
    },
    "ac677f746b0049af94d6c741d27547a3": {
     "views": [
      {
       "cell_index": 15
      }
     ]
    },
    "ad83eed8e44d475a898c3744a0609090": {
     "views": []
    },
    "ae8b9633df4b4e06aad1556b361340cd": {
     "views": []
    },
    "af9cf5afe5154cf1a061d82db435a98e": {
     "views": []
    },
    "afd37219ca5644f0a0cdd693069b1b77": {
     "views": [
      {
       "cell_index": 15
      }
     ]
    },
    "b04f530fc232475daee0700f14e8138e": {
     "views": []
    },
    "b073d6887ffc4d21b5994c7a092f4301": {
     "views": []
    },
    "b0bd98b58767440da8d2639387ef9c16": {
     "views": []
    },
    "b0fed6d56af542c7a83864404a6608ad": {
     "views": []
    },
    "b18e5075914b4e589b3740300618e958": {
     "views": []
    },
    "b263bd2be4524363861f863c29ee3ee2": {
     "views": []
    },
    "b28e8c6ecdb042cebe5dfb1839900f7b": {
     "views": []
    },
    "b2ca9da7c54e4dc39c8470e447f8373a": {
     "views": []
    },
    "b2f12fef850e4bd1a8cdd727ed8420c6": {
     "views": [
      {
       "cell_index": 15
      }
     ]
    },
    "b3afb2a8564e4764a2d2f656f839a6ef": {
     "views": []
    },
    "b415f941202f456d938e4a129a6f576c": {
     "views": []
    },
    "b45ca2e7d1c34b07a4dd4353c1b15b2f": {
     "views": []
    },
    "b4bd4606819e4562a63261adb0d0b155": {
     "views": []
    },
    "b4e401f181ab4f758e278342a71d889b": {
     "views": []
    },
    "b57f323753f343ca8dac42237a585b0a": {
     "views": [
      {
       "cell_index": 15
      }
     ]
    },
    "b5dd56448ad44516a1fdb1d84ccd0d2b": {
     "views": [
      {
       "cell_index": 15
      }
     ]
    },
    "b6410b8f3c5048bc9afdb336ba6dc7ca": {
     "views": []
    },
    "b7566ce97b6a426c8be65c5782d968cc": {
     "views": []
    },
    "b782c61068c54f19a4c233f13cc9dfaa": {
     "views": []
    },
    "b9444b48058b4747a9cb417dba6b245f": {
     "views": []
    },
    "ba34ae5d811b4b09b69fbff04f591c00": {
     "views": []
    },
    "ba5c44b635034d27957c39fca3039f5b": {
     "views": []
    },
    "bb2722cb8f8c496e8b58451482fcb6da": {
     "views": [
      {
       "cell_index": 15
      }
     ]
    },
    "bb5404934c5844ed83433a6abadf61cb": {
     "views": []
    },
    "bbdaf0629b5f44908edb2b7941db035d": {
     "views": []
    },
    "bcefe6c1febf4824969e014981a1eda6": {
     "views": []
    },
    "bd584885b7694cb69fe3883f0dda9038": {
     "views": []
    },
    "bd9cb78f0f89430ab156d0edac65934f": {
     "views": [
      {
       "cell_index": 15
      }
     ]
    },
    "bdae67df06b64dfd94c4ad20e72d0735": {
     "views": []
    },
    "bdf7258627de4772b7ad0fff012421b9": {
     "views": []
    },
    "bf3909f337ac47508e13480812512a9b": {
     "views": []
    },
    "bf6025f52fc54d6a9b3443cc1edee815": {
     "views": []
    },
    "bf969666ef2e4d42880e304b2f2f7856": {
     "views": []
    },
    "bfa77dd3cca14e5b8cc3514e12694037": {
     "views": []
    },
    "c027992d32784f579173bea20830050e": {
     "views": []
    },
    "c051d166ad7f44498208a562e1ae7127": {
     "views": [
      {
       "cell_index": 5
      }
     ]
    },
    "c07af073b1564630bbc17cb820f7c6a7": {
     "views": []
    },
    "c131215fee87452fb955ad004825bcdf": {
     "views": []
    },
    "c1e097c7cba7440eb73fd1ab1d5b612d": {
     "views": [
      {
       "cell_index": 15
      }
     ]
    },
    "c1f8c98f5d3b4c4e9ce0c29b79a197a0": {
     "views": []
    },
    "c2ba423ad1314db583caf974dd8fba69": {
     "views": [
      {
       "cell_index": 15
      }
     ]
    },
    "c4be91ce525c4f329bd2abbd3d81eae9": {
     "views": []
    },
    "c505913ae91f4448adf807c92ac26889": {
     "views": []
    },
    "c5b5d28cb29e43d8bd0a8ba58fc883e8": {
     "views": []
    },
    "c62f6d760e1b4742bffddb492b4dce93": {
     "views": []
    },
    "ca60c2f662844d49a84cf807ffc63643": {
     "views": []
    },
    "cb03092cdbbb458eb238137022a3a7f6": {
     "views": [
      {
       "cell_index": 18
      }
     ]
    },
    "cb1a5523fa424b5094e758ba635e7bfa": {
     "views": []
    },
    "cb259e080d4a475e9afabbdea96b428c": {
     "views": []
    },
    "cbf9a5f80cf74e528f3561fe4bcef47e": {
     "views": []
    },
    "ccddac31e9e94b759af4b8b8d823e309": {
     "views": []
    },
    "cd023447b6294ede871afced37aa4aa5": {
     "views": []
    },
    "cd799b9541214fea942325db571492f6": {
     "views": []
    },
    "cda686d1d7bc4f8c923d8d72512fad3c": {
     "views": []
    },
    "cebc104fa8d440ccba8fe93319258f46": {
     "views": [
      {
       "cell_index": 15
      }
     ]
    },
    "ced2ff8eeba14228adf53afc97467331": {
     "views": []
    },
    "ceeb723d65674b7d82b37c928f1ec621": {
     "views": []
    },
    "cf53c6060601425b82086e435b91116b": {
     "views": []
    },
    "cf66b8d54bbe449d9f00596281caec0f": {
     "views": []
    },
    "cfa06601896141adaebff11dbed26f7a": {
     "views": []
    },
    "d01aeecd9e8d40b4961b2d10143e23c0": {
     "views": []
    },
    "d0508026dfef49be8a19c6d58c3e8b16": {
     "views": []
    },
    "d08d60d553d74014bfa9aadf40b34196": {
     "views": []
    },
    "d1c22f68311f46bbbe7d8751d95b0866": {
     "views": [
      {
       "cell_index": 15
      }
     ]
    },
    "d3a915f0eb124283b9fd0bac055afc8e": {
     "views": []
    },
    "d435efbcddfd404d88fef0df6e25194f": {
     "views": []
    },
    "d4b22f6da8044e188994e3a3099600c9": {
     "views": [
      {
       "cell_index": 15
      }
     ]
    },
    "d57e0a409f75466eaeaf264f6ac43a12": {
     "views": []
    },
    "d73b608c201642759dcce4b71c90e056": {
     "views": []
    },
    "d7ef41bcd1e34c2a99cfbd2366abd213": {
     "views": []
    },
    "d84830104970476da5456f7258e14d3f": {
     "views": []
    },
    "d89199ae9aea4dc5961f4ff85a75d831": {
     "views": []
    },
    "d9093091150c49b3a8297d117e383416": {
     "views": []
    },
    "dabf4beecc7a4cfe898d42341dd832cc": {
     "views": [
      {
       "cell_index": 15
      }
     ]
    },
    "dbd8c1028de74d679ca0fa6523987a09": {
     "views": []
    },
    "dd54a9365e364c0d831843ef3659c99a": {
     "views": [
      {
       "cell_index": 15
      }
     ]
    },
    "de588f7cdba54af28dd112c5b81e4dfc": {
     "views": []
    },
    "deab10da517143a193bcd9bfd081c95a": {
     "views": []
    },
    "df1e05f002e64596bbab6cf82da9a0d0": {
     "views": []
    },
    "df48d0e493314735b1f6f944159c6240": {
     "views": []
    },
    "dfa9b65142fc41c9ba74f9bd6d35d87b": {
     "views": [
      {
       "cell_index": 15
      }
     ]
    },
    "e04c9338e1684187bbec6113a30446c3": {
     "views": []
    },
    "e0f381dcaa3f4c6689e75974941ee3c0": {
     "views": []
    },
    "e1f0dcce22714859ae5e989847f8b8b3": {
     "views": []
    },
    "e289793788614138980b4c4cecd64f87": {
     "views": []
    },
    "e306c802a6a64fb48c4f3b44f1ab3acf": {
     "views": []
    },
    "e33454c6e3994fb593731bcd17bbb960": {
     "views": []
    },
    "e5cfb550a67d419dbab14703701c29ba": {
     "views": []
    },
    "e61f09d3aeaf49f79175e89e703800b6": {
     "views": []
    },
    "e687415cccfc45c9827d407c516ae6ad": {
     "views": []
    },
    "e92fbe95ad594459bb3025ebfb3cefa0": {
     "views": []
    },
    "e98bad66878b4736b8a4f84321912ddd": {
     "views": []
    },
    "ebf53b3218df4a2e90f836175bf34702": {
     "views": []
    },
    "ec514a25952c4c709d869ad9e38a8839": {
     "views": []
    },
    "edfcf96d2e7b47d3a60fafd5157575fa": {
     "views": [
      {
       "cell_index": 15
      }
     ]
    },
    "ee38be2d9487420aa67753bd002fb7da": {
     "views": []
    },
    "ef8838b7f1a8467e94b2ff286d680ac5": {
     "views": []
    },
    "f123f13d8a7744c2af9a0ab012497e42": {
     "views": []
    },
    "f303acb978a04e82b90717887b0017b8": {
     "views": []
    },
    "f37885a02118414b86299f99f436310c": {
     "views": []
    },
    "f37cba40c90a4dadb7d48a43d7a09725": {
     "views": []
    },
    "f38d761d39da44c68ee81230e0ed3d11": {
     "views": []
    },
    "f3bec86653a948d7a2c42fae1bbe5d33": {
     "views": []
    },
    "f490c974d8c6490b925ddd2dc3a3aec5": {
     "views": []
    },
    "f7927352edf94d2eb3c17ef8027a0be7": {
     "views": []
    },
    "f9511b00d69a480eb31811ab751ec5de": {
     "views": []
    },
    "fb22b9f9dec943ffbb3d8cae2b0d95b4": {
     "views": []
    },
    "fcbc7ac3d1e34746ad840fe2c4a96864": {
     "views": []
    },
    "fd42d560dcb44d8b9e4789fe9bbd589c": {
     "views": []
    },
    "fdd40a6951c34010a2345c3f6b618416": {
     "views": []
    },
    "fe03f3250d1e43fea99731f6af99e3a0": {
     "views": []
    },
    "fe36f3698cd84c368292700e4bea7b91": {
     "views": []
    },
    "ff24209df35a40c99115b6cfd390e1f0": {
     "views": []
    }
   },
   "version": "1.1.1"
  }
 },
 "nbformat": 4,
 "nbformat_minor": 0
}
